{
  "cells": [
    {
      "cell_type": "markdown",
      "metadata": {
        "id": "GXbZ1vtkOAeV"
      },
      "source": [
        "## CARGAMOS LAS BASES DE DATOS\n",
        "Clases:\n",
        "- Cargar bases de datos JSON, BASE 64\n",
        "- Cargar bases de datos CSV\n",
        "- Preprocesamiento de datos"
      ]
    },
    {
      "cell_type": "code",
      "execution_count": 1,
      "metadata": {
        "id": "HdnYrVS_i7nR"
      },
      "outputs": [],
      "source": [
        "import zipfile\n",
        "import json\n",
        "import codecs\n",
        "import requests\n",
        "import base64\n",
        "import numpy as np\n",
        "import pandas as pd\n",
        "import matplotlib.pyplot as plt\n",
        "import seaborn as sns\n",
        "from PIL import Image\n",
        "from io import BytesIO\n",
        "%matplotlib inline"
      ]
    },
    {
      "cell_type": "code",
      "execution_count": 2,
      "metadata": {
        "colab": {
          "base_uri": "https://localhost:8080/"
        },
        "id": "BuKUQySSQMeE",
        "outputId": "7525c79d-d253-4c42-8631-26e102677050"
      },
      "outputs": [
        {
          "name": "stderr",
          "output_type": "stream",
          "text": [
            "  % Total    % Received % Xferd  Average Speed   Time    Time     Time  Current\n",
            "                                 Dload  Upload   Total   Spent    Left  Speed\n",
            "\n",
            "  0     0    0     0    0     0      0      0 --:--:-- --:--:-- --:--:--     0\n",
            "  0 68.3M    0  177k    0     0   357k      0  0:03:15 --:--:--  0:03:15  358k\n",
            " 43 68.3M   43 29.9M    0     0  20.0M      0  0:00:03  0:00:01  0:00:02 20.0M\n",
            "100 68.3M  100 68.3M    0     0  28.5M      0  0:00:02  0:00:02 --:--:-- 28.5M\n"
          ]
        }
      ],
      "source": [
        "!curl -O https://storage.googleapis.com/platzi-tf2/databasesLoadData.zip"
      ]
    },
    {
      "cell_type": "code",
      "execution_count": 3,
      "metadata": {
        "id": "umQAratqQngU"
      },
      "outputs": [],
      "source": [
        "# Descomprimimos \n",
        "local_zip = 'databasesLoadData.zip'\n",
        "zip_ref = zipfile.ZipFile(local_zip, 'r')\n",
        "zip_ref.extractall('data')\n",
        "zip_ref.close()"
      ]
    },
    {
      "cell_type": "code",
      "execution_count": 4,
      "metadata": {},
      "outputs": [
        {
          "name": "stdout",
          "output_type": "stream",
          "text": [
            "PATH=c:\\Users\\secur\\Documents\\Platzi\\neural-network\\venv\\Scripts;C:\\Users\\secur\\Documents\\Platzi\\neural-network\\venv\\Scripts;C:\\Program Files\\Common Files\\Oracle\\Java\\javapath;C:\\Users\\secur\\AppData\\Local\\Programs\\Python\\Python311\\Scripts\\;C:\\Users\\secur\\AppData\\Local\\Programs\\Python\\Python311\\;C:\\Windows\\system32;C:\\Windows;C:\\Windows\\System32\\Wbem;C:\\Windows\\System32\\WindowsPowerShell\\v1.0\\;C:\\Windows\\System32\\OpenSSH\\;C:\\Program Files (x86)\\Microsoft SQL Server\\150\\DTS\\Binn\\;C:\\Program Files\\Azure Data Studio\\bin;C:\\Program Files\\Git\\cmd;C:\\Program Files\\MATLAB\\R2022b\\runtime\\win64;C:\\Program Files\\MATLAB\\R2022b\\bin;C:\\Program Files\\nodejs\\;C:\\ProgramData\\chocolatey\\bin;C:\\Program Files (x86)\\Microsoft SQL Server\\160\\Tools\\Binn\\;C:\\Program Files\\Microsoft SQL Server\\160\\Tools\\Binn\\;C:\\Program Files\\Microsoft SQL Server\\Client SDK\\ODBC\\170\\Tools\\Binn\\;C:\\Program Files\\Microsoft SQL Server\\160\\DTS\\Binn\\;C:\\Users\\secur\\AppData\\Local\\Microsoft\\WindowsApps;;C:\\Program Files\\Azure Data Studio\\bin;C:\\Users\\secur\\AppData\\Local\\Programs\\Microsoft VS Code\\bin;C:\\Users\\secur\\AppData\\Local\\spicetify;C:\\Users\\secur\\AppData\\Roaming\\npm\n"
          ]
        }
      ],
      "source": [
        "! path"
      ]
    },
    {
      "cell_type": "code",
      "execution_count": 5,
      "metadata": {
        "id": "E6sTMWvRRjYM"
      },
      "outputs": [],
      "source": [
        "url = r\"C:\\Users\\secur\\Documents\\Platzi\\neural-network\\data\\sign_mnist_json\\data.json\""
      ]
    },
    {
      "cell_type": "code",
      "execution_count": 6,
      "metadata": {
        "colab": {
          "base_uri": "https://localhost:8080/"
        },
        "id": "uqdKR9lBRmPG",
        "outputId": "b11dba71-923a-4361-d3b2-f56880638935"
      },
      "outputs": [
        {
          "name": "stdout",
          "output_type": "stream",
          "text": [
            "9 imagenes encontradas\n"
          ]
        }
      ],
      "source": [
        "data_json = []\n",
        "with codecs.open(url, 'r', 'utf-8') as js:\n",
        "    for line in js:\n",
        "        data_json.append(json.loads(line))\n",
        "\n",
        "print(\"{} imagenes encontradas\".format(len(data_json)))"
      ]
    },
    {
      "cell_type": "code",
      "execution_count": 7,
      "metadata": {
        "colab": {
          "base_uri": "https://localhost:8080/"
        },
        "id": "ke3crmGrSMt5",
        "outputId": "88df7c80-e348-42d2-b820-6a8e03954d98"
      },
      "outputs": [
        {
          "data": {
            "text/plain": [
              "{'content': 'https://storage.googleapis.com/platzi-tf2/img_mnist/29_B.jpg',\n",
              " 'label': 'b'}"
            ]
          },
          "execution_count": 7,
          "metadata": {},
          "output_type": "execute_result"
        }
      ],
      "source": [
        "data_json[0]"
      ]
    },
    {
      "cell_type": "code",
      "execution_count": 8,
      "metadata": {
        "id": "yJ9UdEBIR67F"
      },
      "outputs": [],
      "source": [
        "images = []\n",
        "\n",
        "for data in data_json:\n",
        "  response = requests.get(data['content'])\n",
        "  img = np.asarray(Image.open(BytesIO(response.content)))\n",
        "  images.append([img, data[\"label\"]])"
      ]
    },
    {
      "cell_type": "code",
      "execution_count": 9,
      "metadata": {
        "colab": {
          "base_uri": "https://localhost:8080/",
          "height": 283
        },
        "id": "1uci0dBKSEOj",
        "outputId": "2ef37c79-5ab2-4172-ac3f-10f247f4f487"
      },
      "outputs": [
        {
          "name": "stdout",
          "output_type": "stream",
          "text": [
            "b\n"
          ]
        },
        {
          "data": {
            "image/png": "[encoded data removed]",
            "text/plain": [
              "<Figure size 640x480 with 1 Axes>"
            ]
          },
          "metadata": {},
          "output_type": "display_data"
        }
      ],
      "source": [
        "plt.imshow(images[0][0].reshape(28, 28))\n",
        "print(images[0][1])"
      ]
    },
    {
      "cell_type": "code",
      "execution_count": 10,
      "metadata": {
        "id": "u-1e7mz9T_es"
      },
      "outputs": [],
      "source": [
        "url = r\"C:\\Users\\secur\\Documents\\Platzi\\neural-network\\data\\sign_mnist_base64\\data.json\""
      ]
    },
    {
      "cell_type": "code",
      "execution_count": 11,
      "metadata": {
        "id": "B9r-A2X3UF5_"
      },
      "outputs": [],
      "source": [
        "with open(url) as f:\n",
        "  data = json.load(f)\n"
      ]
    },
    {
      "cell_type": "code",
      "execution_count": 12,
      "metadata": {
        "colab": {
          "base_uri": "https://localhost:8080/"
        },
        "id": "v3X66S1cULnK",
        "outputId": "de594f7b-4097-4228-933f-a39a23435400"
      },
      "outputs": [
        {
          "name": "stdout",
          "output_type": "stream",
          "text": [
            "{'b': '/9j/4AAQSkZJRgABAQAAAQABAAD/2wBDAAgGBgcGBQgHBwcJCQgKDBQNDAsLDBkSEw8UHRofHh0aHBwgJC4nICIsIxwcKDcpLDAxNDQ0Hyc5PTgyPC4zNDL/wAALCAAcABwBAREA/8QAHwAAAQUBAQEBAQEAAAAAAAAAAAECAwQFBgcICQoL/8QAtRAAAgEDAwIEAwUFBAQAAAF9AQIDAAQRBRIhMUEGE1FhByJxFDKBkaEII0KxwRVS0fAkM2JyggkKFhcYGRolJicoKSo0NTY3ODk6Q0RFRkdISUpTVFVWV1hZWmNkZWZnaGlqc3R1dnd4eXqDhIWGh4iJipKTlJWWl5iZmqKjpKWmp6ipqrKztLW2t7i5usLDxMXGx8jJytLT1NXW19jZ2uHi4+Tl5ufo6erx8vP09fb3+Pn6/9oACAEBAAA/AOhS246VBdyJbqyDmbaGVSOuWxTUk3XckDKcGVkjI/2VBOf1qcwc9K00i4rnNbCLrcSPMkQKJ97PUNnHHtmrllEf7US3dSJIEklcEdd7DBHtjP5VrGLmrSpxWHewQnxNHNOBsAJOfYZpvh8zXup394xPkKBAg9SDk/lx+db5j5pCcICO+K47X7+cL5uRv2kZxXW6TaRWek20UIIBQOSepZhkk/iasMxDV//Z'}\n"
          ]
        }
      ],
      "source": [
        "print(data)"
      ]
    },
    {
      "cell_type": "code",
      "execution_count": 13,
      "metadata": {
        "id": "spj6nlPtUNLT"
      },
      "outputs": [],
      "source": [
        "base64_img_bytes = data['b'].encode('utf-8')\n",
        "path_img = \"data\\pixeles.png\"\n",
        "with open(path_img, \"wb\") as file_to_save:\n",
        "  decoded_image_data = base64.decodebytes(base64_img_bytes)\n",
        "  file_to_save.write(decoded_image_data)"
      ]
    },
    {
      "cell_type": "code",
      "execution_count": 14,
      "metadata": {
        "colab": {
          "base_uri": "https://localhost:8080/",
          "height": 45
        },
        "id": "1nPPsaImUszb",
        "outputId": "677b2598-b2cc-4cf8-aa57-c5788636e279"
      },
      "outputs": [
        {
          "data": {
            "image/jpeg": "[encoded data removed]",
            "image/png": "[encoded data removed]",
            "text/plain": [
              "<PIL.JpegImagePlugin.JpegImageFile image mode=L size=28x28>"
            ]
          },
          "execution_count": 14,
          "metadata": {},
          "output_type": "execute_result"
        }
      ],
      "source": [
        "img = Image.open(path_img)\n",
        "img"
      ]
    },
    {
      "cell_type": "code",
      "execution_count": 15,
      "metadata": {
        "id": "oFcWpPcpVfNW"
      },
      "outputs": [],
      "source": [
        "train = pd.read_csv(\"data\\sign_mnist_train\\sign_mnist_train.csv\")\n",
        "test = pd.read_csv(\"data\\sign_mnist_test\\sign_mnist_test.csv\")"
      ]
    },
    {
      "cell_type": "code",
      "execution_count": 16,
      "metadata": {
        "colab": {
          "base_uri": "https://localhost:8080/",
          "height": 252
        },
        "id": "Cvj7NW9WVvgt",
        "outputId": "3a83fc3d-d6d9-4ae1-b990-751c29280e74"
      },
      "outputs": [
        {
          "data": {
            "text/html": [
              "<div>\n",
              "<style scoped>\n",
              "    .dataframe tbody tr th:only-of-type {\n",
              "        vertical-align: middle;\n",
              "    }\n",
              "\n",
              "    .dataframe tbody tr th {\n",
              "        vertical-align: top;\n",
              "    }\n",
              "\n",
              "    .dataframe thead th {\n",
              "        text-align: right;\n",
              "    }\n",
              "</style>\n",
              "<table border=\"1\" class=\"dataframe\">\n",
              "  <thead>\n",
              "    <tr style=\"text-align: right;\">\n",
              "      <th></th>\n",
              "      <th>label</th>\n",
              "      <th>pixel1</th>\n",
              "      <th>pixel2</th>\n",
              "      <th>pixel3</th>\n",
              "      <th>pixel4</th>\n",
              "      <th>pixel5</th>\n",
              "      <th>pixel6</th>\n",
              "      <th>pixel7</th>\n",
              "      <th>pixel8</th>\n",
              "      <th>pixel9</th>\n",
              "      <th>...</th>\n",
              "      <th>pixel775</th>\n",
              "      <th>pixel776</th>\n",
              "      <th>pixel777</th>\n",
              "      <th>pixel778</th>\n",
              "      <th>pixel779</th>\n",
              "      <th>pixel780</th>\n",
              "      <th>pixel781</th>\n",
              "      <th>pixel782</th>\n",
              "      <th>pixel783</th>\n",
              "      <th>pixel784</th>\n",
              "    </tr>\n",
              "  </thead>\n",
              "  <tbody>\n",
              "    <tr>\n",
              "      <th>0</th>\n",
              "      <td>3</td>\n",
              "      <td>107</td>\n",
              "      <td>118</td>\n",
              "      <td>127</td>\n",
              "      <td>134</td>\n",
              "      <td>139</td>\n",
              "      <td>143</td>\n",
              "      <td>146</td>\n",
              "      <td>150</td>\n",
              "      <td>153</td>\n",
              "      <td>...</td>\n",
              "      <td>207</td>\n",
              "      <td>207</td>\n",
              "      <td>207</td>\n",
              "      <td>207</td>\n",
              "      <td>206</td>\n",
              "      <td>206</td>\n",
              "      <td>206</td>\n",
              "      <td>204</td>\n",
              "      <td>203</td>\n",
              "      <td>202</td>\n",
              "    </tr>\n",
              "    <tr>\n",
              "      <th>1</th>\n",
              "      <td>6</td>\n",
              "      <td>155</td>\n",
              "      <td>157</td>\n",
              "      <td>156</td>\n",
              "      <td>156</td>\n",
              "      <td>156</td>\n",
              "      <td>157</td>\n",
              "      <td>156</td>\n",
              "      <td>158</td>\n",
              "      <td>158</td>\n",
              "      <td>...</td>\n",
              "      <td>69</td>\n",
              "      <td>149</td>\n",
              "      <td>128</td>\n",
              "      <td>87</td>\n",
              "      <td>94</td>\n",
              "      <td>163</td>\n",
              "      <td>175</td>\n",
              "      <td>103</td>\n",
              "      <td>135</td>\n",
              "      <td>149</td>\n",
              "    </tr>\n",
              "    <tr>\n",
              "      <th>2</th>\n",
              "      <td>2</td>\n",
              "      <td>187</td>\n",
              "      <td>188</td>\n",
              "      <td>188</td>\n",
              "      <td>187</td>\n",
              "      <td>187</td>\n",
              "      <td>186</td>\n",
              "      <td>187</td>\n",
              "      <td>188</td>\n",
              "      <td>187</td>\n",
              "      <td>...</td>\n",
              "      <td>202</td>\n",
              "      <td>201</td>\n",
              "      <td>200</td>\n",
              "      <td>199</td>\n",
              "      <td>198</td>\n",
              "      <td>199</td>\n",
              "      <td>198</td>\n",
              "      <td>195</td>\n",
              "      <td>194</td>\n",
              "      <td>195</td>\n",
              "    </tr>\n",
              "    <tr>\n",
              "      <th>3</th>\n",
              "      <td>2</td>\n",
              "      <td>211</td>\n",
              "      <td>211</td>\n",
              "      <td>212</td>\n",
              "      <td>212</td>\n",
              "      <td>211</td>\n",
              "      <td>210</td>\n",
              "      <td>211</td>\n",
              "      <td>210</td>\n",
              "      <td>210</td>\n",
              "      <td>...</td>\n",
              "      <td>235</td>\n",
              "      <td>234</td>\n",
              "      <td>233</td>\n",
              "      <td>231</td>\n",
              "      <td>230</td>\n",
              "      <td>226</td>\n",
              "      <td>225</td>\n",
              "      <td>222</td>\n",
              "      <td>229</td>\n",
              "      <td>163</td>\n",
              "    </tr>\n",
              "    <tr>\n",
              "      <th>4</th>\n",
              "      <td>13</td>\n",
              "      <td>164</td>\n",
              "      <td>167</td>\n",
              "      <td>170</td>\n",
              "      <td>172</td>\n",
              "      <td>176</td>\n",
              "      <td>179</td>\n",
              "      <td>180</td>\n",
              "      <td>184</td>\n",
              "      <td>185</td>\n",
              "      <td>...</td>\n",
              "      <td>92</td>\n",
              "      <td>105</td>\n",
              "      <td>105</td>\n",
              "      <td>108</td>\n",
              "      <td>133</td>\n",
              "      <td>163</td>\n",
              "      <td>157</td>\n",
              "      <td>163</td>\n",
              "      <td>164</td>\n",
              "      <td>179</td>\n",
              "    </tr>\n",
              "  </tbody>\n",
              "</table>\n",
              "<p>5 rows × 785 columns</p>\n",
              "</div>"
            ],
            "text/plain": [
              "   label  pixel1  pixel2  pixel3  pixel4  pixel5  pixel6  pixel7  pixel8  \\\n",
              "0      3     107     118     127     134     139     143     146     150   \n",
              "1      6     155     157     156     156     156     157     156     158   \n",
              "2      2     187     188     188     187     187     186     187     188   \n",
              "3      2     211     211     212     212     211     210     211     210   \n",
              "4     13     164     167     170     172     176     179     180     184   \n",
              "\n",
              "   pixel9  ...  pixel775  pixel776  pixel777  pixel778  pixel779  pixel780  \\\n",
              "0     153  ...       207       207       207       207       206       206   \n",
              "1     158  ...        69       149       128        87        94       163   \n",
              "2     187  ...       202       201       200       199       198       199   \n",
              "3     210  ...       235       234       233       231       230       226   \n",
              "4     185  ...        92       105       105       108       133       163   \n",
              "\n",
              "   pixel781  pixel782  pixel783  pixel784  \n",
              "0       206       204       203       202  \n",
              "1       175       103       135       149  \n",
              "2       198       195       194       195  \n",
              "3       225       222       229       163  \n",
              "4       157       163       164       179  \n",
              "\n",
              "[5 rows x 785 columns]"
            ]
          },
          "execution_count": 16,
          "metadata": {},
          "output_type": "execute_result"
        }
      ],
      "source": [
        "train.head()"
      ]
    },
    {
      "cell_type": "code",
      "execution_count": 17,
      "metadata": {
        "colab": {
          "base_uri": "https://localhost:8080/"
        },
        "id": "TC8mO6-fV3TS",
        "outputId": "13fe5301-7575-4e72-d66f-fdb2ce720425"
      },
      "outputs": [
        {
          "data": {
            "text/plain": [
              "(27455, 785)"
            ]
          },
          "execution_count": 17,
          "metadata": {},
          "output_type": "execute_result"
        }
      ],
      "source": [
        "train.shape"
      ]
    },
    {
      "cell_type": "code",
      "execution_count": 18,
      "metadata": {
        "id": "aY-1JbYZWQ_a"
      },
      "outputs": [],
      "source": [
        "labels = train['label'].values"
      ]
    },
    {
      "cell_type": "code",
      "execution_count": 19,
      "metadata": {
        "id": "L91JzfN6WWJH"
      },
      "outputs": [],
      "source": [
        "train.drop('label', axis = 1, inplace = True)"
      ]
    },
    {
      "cell_type": "code",
      "execution_count": 20,
      "metadata": {
        "colab": {
          "base_uri": "https://localhost:8080/",
          "height": 252
        },
        "id": "dT0QxFXnWcUG",
        "outputId": "80b8aa60-1ab1-497e-864d-bc668a985517"
      },
      "outputs": [
        {
          "data": {
            "text/html": [
              "<div>\n",
              "<style scoped>\n",
              "    .dataframe tbody tr th:only-of-type {\n",
              "        vertical-align: middle;\n",
              "    }\n",
              "\n",
              "    .dataframe tbody tr th {\n",
              "        vertical-align: top;\n",
              "    }\n",
              "\n",
              "    .dataframe thead th {\n",
              "        text-align: right;\n",
              "    }\n",
              "</style>\n",
              "<table border=\"1\" class=\"dataframe\">\n",
              "  <thead>\n",
              "    <tr style=\"text-align: right;\">\n",
              "      <th></th>\n",
              "      <th>pixel1</th>\n",
              "      <th>pixel2</th>\n",
              "      <th>pixel3</th>\n",
              "      <th>pixel4</th>\n",
              "      <th>pixel5</th>\n",
              "      <th>pixel6</th>\n",
              "      <th>pixel7</th>\n",
              "      <th>pixel8</th>\n",
              "      <th>pixel9</th>\n",
              "      <th>pixel10</th>\n",
              "      <th>...</th>\n",
              "      <th>pixel775</th>\n",
              "      <th>pixel776</th>\n",
              "      <th>pixel777</th>\n",
              "      <th>pixel778</th>\n",
              "      <th>pixel779</th>\n",
              "      <th>pixel780</th>\n",
              "      <th>pixel781</th>\n",
              "      <th>pixel782</th>\n",
              "      <th>pixel783</th>\n",
              "      <th>pixel784</th>\n",
              "    </tr>\n",
              "  </thead>\n",
              "  <tbody>\n",
              "    <tr>\n",
              "      <th>0</th>\n",
              "      <td>107</td>\n",
              "      <td>118</td>\n",
              "      <td>127</td>\n",
              "      <td>134</td>\n",
              "      <td>139</td>\n",
              "      <td>143</td>\n",
              "      <td>146</td>\n",
              "      <td>150</td>\n",
              "      <td>153</td>\n",
              "      <td>156</td>\n",
              "      <td>...</td>\n",
              "      <td>207</td>\n",
              "      <td>207</td>\n",
              "      <td>207</td>\n",
              "      <td>207</td>\n",
              "      <td>206</td>\n",
              "      <td>206</td>\n",
              "      <td>206</td>\n",
              "      <td>204</td>\n",
              "      <td>203</td>\n",
              "      <td>202</td>\n",
              "    </tr>\n",
              "    <tr>\n",
              "      <th>1</th>\n",
              "      <td>155</td>\n",
              "      <td>157</td>\n",
              "      <td>156</td>\n",
              "      <td>156</td>\n",
              "      <td>156</td>\n",
              "      <td>157</td>\n",
              "      <td>156</td>\n",
              "      <td>158</td>\n",
              "      <td>158</td>\n",
              "      <td>157</td>\n",
              "      <td>...</td>\n",
              "      <td>69</td>\n",
              "      <td>149</td>\n",
              "      <td>128</td>\n",
              "      <td>87</td>\n",
              "      <td>94</td>\n",
              "      <td>163</td>\n",
              "      <td>175</td>\n",
              "      <td>103</td>\n",
              "      <td>135</td>\n",
              "      <td>149</td>\n",
              "    </tr>\n",
              "    <tr>\n",
              "      <th>2</th>\n",
              "      <td>187</td>\n",
              "      <td>188</td>\n",
              "      <td>188</td>\n",
              "      <td>187</td>\n",
              "      <td>187</td>\n",
              "      <td>186</td>\n",
              "      <td>187</td>\n",
              "      <td>188</td>\n",
              "      <td>187</td>\n",
              "      <td>186</td>\n",
              "      <td>...</td>\n",
              "      <td>202</td>\n",
              "      <td>201</td>\n",
              "      <td>200</td>\n",
              "      <td>199</td>\n",
              "      <td>198</td>\n",
              "      <td>199</td>\n",
              "      <td>198</td>\n",
              "      <td>195</td>\n",
              "      <td>194</td>\n",
              "      <td>195</td>\n",
              "    </tr>\n",
              "    <tr>\n",
              "      <th>3</th>\n",
              "      <td>211</td>\n",
              "      <td>211</td>\n",
              "      <td>212</td>\n",
              "      <td>212</td>\n",
              "      <td>211</td>\n",
              "      <td>210</td>\n",
              "      <td>211</td>\n",
              "      <td>210</td>\n",
              "      <td>210</td>\n",
              "      <td>211</td>\n",
              "      <td>...</td>\n",
              "      <td>235</td>\n",
              "      <td>234</td>\n",
              "      <td>233</td>\n",
              "      <td>231</td>\n",
              "      <td>230</td>\n",
              "      <td>226</td>\n",
              "      <td>225</td>\n",
              "      <td>222</td>\n",
              "      <td>229</td>\n",
              "      <td>163</td>\n",
              "    </tr>\n",
              "    <tr>\n",
              "      <th>4</th>\n",
              "      <td>164</td>\n",
              "      <td>167</td>\n",
              "      <td>170</td>\n",
              "      <td>172</td>\n",
              "      <td>176</td>\n",
              "      <td>179</td>\n",
              "      <td>180</td>\n",
              "      <td>184</td>\n",
              "      <td>185</td>\n",
              "      <td>186</td>\n",
              "      <td>...</td>\n",
              "      <td>92</td>\n",
              "      <td>105</td>\n",
              "      <td>105</td>\n",
              "      <td>108</td>\n",
              "      <td>133</td>\n",
              "      <td>163</td>\n",
              "      <td>157</td>\n",
              "      <td>163</td>\n",
              "      <td>164</td>\n",
              "      <td>179</td>\n",
              "    </tr>\n",
              "  </tbody>\n",
              "</table>\n",
              "<p>5 rows × 784 columns</p>\n",
              "</div>"
            ],
            "text/plain": [
              "   pixel1  pixel2  pixel3  pixel4  pixel5  pixel6  pixel7  pixel8  pixel9  \\\n",
              "0     107     118     127     134     139     143     146     150     153   \n",
              "1     155     157     156     156     156     157     156     158     158   \n",
              "2     187     188     188     187     187     186     187     188     187   \n",
              "3     211     211     212     212     211     210     211     210     210   \n",
              "4     164     167     170     172     176     179     180     184     185   \n",
              "\n",
              "   pixel10  ...  pixel775  pixel776  pixel777  pixel778  pixel779  pixel780  \\\n",
              "0      156  ...       207       207       207       207       206       206   \n",
              "1      157  ...        69       149       128        87        94       163   \n",
              "2      186  ...       202       201       200       199       198       199   \n",
              "3      211  ...       235       234       233       231       230       226   \n",
              "4      186  ...        92       105       105       108       133       163   \n",
              "\n",
              "   pixel781  pixel782  pixel783  pixel784  \n",
              "0       206       204       203       202  \n",
              "1       175       103       135       149  \n",
              "2       198       195       194       195  \n",
              "3       225       222       229       163  \n",
              "4       157       163       164       179  \n",
              "\n",
              "[5 rows x 784 columns]"
            ]
          },
          "execution_count": 20,
          "metadata": {},
          "output_type": "execute_result"
        }
      ],
      "source": [
        "train.head()"
      ]
    },
    {
      "cell_type": "code",
      "execution_count": 21,
      "metadata": {
        "id": "3Ri3i83uWmwX"
      },
      "outputs": [],
      "source": [
        "images = train.values"
      ]
    },
    {
      "cell_type": "code",
      "execution_count": 22,
      "metadata": {
        "colab": {
          "base_uri": "https://localhost:8080/",
          "height": 282
        },
        "id": "Ewymw7H5Wdos",
        "outputId": "fb0c6327-3942-484c-8ac4-2d56c16e818e"
      },
      "outputs": [
        {
          "data": {
            "text/plain": [
              "<matplotlib.image.AxesImage at 0x260cf2e20d0>"
            ]
          },
          "execution_count": 22,
          "metadata": {},
          "output_type": "execute_result"
        },
        {
          "data": {
            "image/png": "[encoded data removed]",
            "text/plain": [
              "<Figure size 640x480 with 1 Axes>"
            ]
          },
          "metadata": {},
          "output_type": "display_data"
        }
      ],
      "source": [
        "plt.imshow(images[1].reshape(28, 28))"
      ]
    },
    {
      "cell_type": "code",
      "execution_count": 23,
      "metadata": {
        "colab": {
          "base_uri": "https://localhost:8080/"
        },
        "id": "dBpDXoFzWpYv",
        "outputId": "155e00c1-47f0-443a-e44d-560d898b6b39"
      },
      "outputs": [
        {
          "name": "stderr",
          "output_type": "stream",
          "text": [
            "C:\\Users\\secur\\AppData\\Local\\Temp\\ipykernel_4208\\3117105689.py:1: DtypeWarning: Columns (1,2,3,4,5,6,7,8,9,10,11,12,13,14,15,16,17,18,19,20,21,22,23,24,25,26,27,28,29,30,31,32,33,34,35,36,37,38,39,40,41,42,43,44,45,46,47,48,49,50,51,52,53,54,55,56,57,58,59,60,61,62,63,64,65,66,67,68,69,70,71,72,73,74,75,76,77,78,79,80,81,82,83,84,85,86,87,88,89,90,91,92,93,94,95,96,97,98,99,100,101,102,103,104,105,106,107,108,109,110,111,112,113,114,115,116,117,118,119,120,121,122,123,124,125,126,127,128,129,130,131,132,133,134,135,136,137,138,139,140,141,142,143,144,145,146,147,148,149,150,151,152,153,154,155,156,157,158,159,160,161,162,163,164,165,166,167,168,169,170,171,172,173,174,175,176,177,178,179,180,181,182,183,184,185,186,187,188,189,190,191,192,193,194,195,196,197,198,199,200,201,202,203,204,205,206,207,208,209,210,211,212,213,214,215,216,217,218,219,220,221,222,223,224,225,226,227,228,229,230,231,232,233,234,235,236,237,238,239,240,241,242,243,244,245,246,247,248,249,250,251,252,253,254,255,256,257,258,259,260,261,262,263,264,265,266,267,268,269,270,271,272,273,274,275,276,277,278,279,280,281,282,283,284,285,286,287,288,289,290,291,292,293,294,295,296,297,298,299,300,301,302,303,304,305,306,307,308,309,310,311,312,313,314,315,316,317,318,319,320,321,322,323,324,325,326,327,328,329,330,331,332,333,334,335,336,337,338,339,340,341,342,343,344,345,346,347,348,349,350,351,352,353,354,355,356,357,358,359,360,361,362,363,364,365,366,367,368,369,370,371,372,373,374,375,376,377,378,379,380,381,382,383,384,385,386,387,388,389,390,391,392,393,394,395,396,397,398,399,400,401,402,403,404,405,406,407,408,409,410,411,412,413,414,415,416,417,418,419,420,421,422,423,424,425,426,427,428,429,430,431,432,433,434,435,436,437,438,439,440,441,442,443,444,445,446,447,448,449,450,451,452,453,454,455,456,457,458,459,460,461,462,463,464,465,466,467,468,469,470,471,472,473,474,475,476,477,478,479,480,481,482,483,484,485,486,487,488,489,490,491,492,493,494,495,496,497,498,499,500,501,502,503,504,505,506,507,508,509,510,511,512,513,514,515,516,517,518,519,520,521,522,523,524,525,526,527,528,529,530,531,532,533,534,535,536,537,538,539,540,541,542,543,544,545,546,547,548,549,550,551,552,553,554,555,556,557,558,559,560,561,562,563,564,565,566,567,568,569,570,571,572,573,574,575,576,577,578,579,580,581,582,583,584,585,586,587,588,589,590,591,592,593,594,595,596,597,598,599,600,601,602,603,604,605,606,607,608,609,610,611,612,613,614,615,616,617,618,619,620,621,622,623,624,625,626,627,628,629,630,631,632,633,634,635,636,637,638,639,640,641,642,643,644,645,646,647,648,649,650,651,652,653,654,655,656,657,658,659,660,661,662,663,664,665,666,667,668,669,670,671,672,673,674,675,676,677,678,679,680,681,682,683,684,685,686,687,688,689,690,691,692,693,694,695,696,697,698,699,700,701,702,703,704,705,706,707,708,709,710,711,712,713,714,715,716,717,718,719,720,721,722,723,724,725,726,727,728,729,730,731,732,733,734,735,736,737,738,739,740,741,742,743,744,745,746,747,748,749,750,751,752,753,754,755,756,757,758,759,760,761,762,763,764,765,766,767,768,769,770,771,772,773,774,775,776,777,778,779,780,781,782,783,784) have mixed types. Specify dtype option on import or set low_memory=False.\n",
            "  train = pd.read_csv(\"data\\sign_mnist_train\\sign_mnist_train_clean.csv\")\n"
          ]
        }
      ],
      "source": [
        "train = pd.read_csv(\"data\\sign_mnist_train\\sign_mnist_train_clean.csv\")"
      ]
    },
    {
      "cell_type": "code",
      "execution_count": 24,
      "metadata": {
        "colab": {
          "base_uri": "https://localhost:8080/",
          "height": 679
        },
        "id": "jDBUZIEFYvJt",
        "outputId": "b3bdad3c-bded-42f1-cab8-e7eb9e8eeee0"
      },
      "outputs": [
        {
          "name": "stderr",
          "output_type": "stream",
          "text": [
            "C:\\Users\\secur\\AppData\\Local\\Temp\\ipykernel_4208\\2483407841.py:3: FutureWarning: \n",
            "\n",
            "Passing `palette` without assigning `hue` is deprecated and will be removed in v0.14.0. Assign the `x` variable to `hue` and set `legend=False` for the same effect.\n",
            "\n",
            "  sns.countplot(x='label', data=train, palette = 'deep')\n"
          ]
        },
        {
          "data": {
            "text/plain": [
              "<Axes: xlabel='label', ylabel='count'>"
            ]
          },
          "execution_count": 24,
          "metadata": {},
          "output_type": "execute_result"
        },
        {
          "data": {
            "image/png": "[encoded data removed]",
            "text/plain": [
              "<Figure size 1000x1000 with 1 Axes>"
            ]
          },
          "metadata": {},
          "output_type": "display_data"
        }
      ],
      "source": [
        "plt.figure(figsize = (10, 10))\n",
        "sns.set_style(\"whitegrid\", {'grid.linestyle': '--'})\n",
        "sns.countplot(x='label', data=train, palette = 'deep')"
      ]
    },
    {
      "cell_type": "code",
      "execution_count": 25,
      "metadata": {
        "id": "XfxeCgsTZASa"
      },
      "outputs": [],
      "source": [
        "y_train = train['label']\n",
        "y_test = test['label']\n",
        "del train['label']\n",
        "del test['label']"
      ]
    },
    {
      "cell_type": "code",
      "execution_count": 26,
      "metadata": {
        "colab": {
          "base_uri": "https://localhost:8080/"
        },
        "id": "TdHpOWwAZZD9",
        "outputId": "69a68f68-c8b6-4cfd-a73a-4d6cc6c01086"
      },
      "outputs": [
        {
          "name": "stdout",
          "output_type": "stream",
          "text": [
            "<class 'pandas.core.frame.DataFrame'>\n",
            "RangeIndex: 27455 entries, 0 to 27454\n",
            "Columns: 784 entries, pixel1 to pixel784\n",
            "dtypes: object(784)\n",
            "memory usage: 164.2+ MB\n"
          ]
        }
      ],
      "source": [
        "train.info()"
      ]
    },
    {
      "cell_type": "code",
      "execution_count": 27,
      "metadata": {
        "colab": {
          "base_uri": "https://localhost:8080/"
        },
        "id": "pniFU2lmZg-X",
        "outputId": "659b2561-ed6b-4053-a60f-fb8d5fdc06a0"
      },
      "outputs": [
        {
          "data": {
            "text/plain": [
              "pixel1      object\n",
              "pixel2      object\n",
              "pixel3      object\n",
              "pixel4      object\n",
              "pixel5      object\n",
              "             ...  \n",
              "pixel780    object\n",
              "pixel781    object\n",
              "pixel782    object\n",
              "pixel783    object\n",
              "pixel784    object\n",
              "Length: 784, dtype: object"
            ]
          },
          "execution_count": 27,
          "metadata": {},
          "output_type": "execute_result"
        }
      ],
      "source": [
        "train.dtypes"
      ]
    },
    {
      "cell_type": "code",
      "execution_count": 28,
      "metadata": {
        "colab": {
          "base_uri": "https://localhost:8080/"
        },
        "id": "hvfGuWRjZof5",
        "outputId": "c36ab40e-737b-4328-92c9-25ad3e9746b0"
      },
      "outputs": [
        {
          "data": {
            "text/plain": [
              "array([ 0,  1,  2,  3,  4,  5,  6,  7,  8, 10, 11, 12, 13, 14, 15, 16, 17,\n",
              "       18, 19, 20, 21, 22, 23, 24], dtype=int64)"
            ]
          },
          "execution_count": 28,
          "metadata": {},
          "output_type": "execute_result"
        }
      ],
      "source": [
        "unique_val = np.array(labels)\n",
        "np.unique(unique_val)"
      ]
    },
    {
      "cell_type": "code",
      "execution_count": 29,
      "metadata": {
        "colab": {
          "base_uri": "https://localhost:8080/"
        },
        "id": "IIxL69ibZxpd",
        "outputId": "37a4446c-deac-43e9-df4b-9bae34a491a4"
      },
      "outputs": [
        {
          "data": {
            "text/plain": [
              "False"
            ]
          },
          "execution_count": 29,
          "metadata": {},
          "output_type": "execute_result"
        }
      ],
      "source": [
        "train.isnull().values.any()"
      ]
    },
    {
      "cell_type": "code",
      "execution_count": 30,
      "metadata": {
        "colab": {
          "base_uri": "https://localhost:8080/",
          "height": 98
        },
        "id": "idyjO_mrZ5of",
        "outputId": "29274b1b-8cd5-4c35-db2c-e2163303cc22"
      },
      "outputs": [
        {
          "data": {
            "text/html": [
              "<div>\n",
              "<style scoped>\n",
              "    .dataframe tbody tr th:only-of-type {\n",
              "        vertical-align: middle;\n",
              "    }\n",
              "\n",
              "    .dataframe tbody tr th {\n",
              "        vertical-align: top;\n",
              "    }\n",
              "\n",
              "    .dataframe thead th {\n",
              "        text-align: right;\n",
              "    }\n",
              "</style>\n",
              "<table border=\"1\" class=\"dataframe\">\n",
              "  <thead>\n",
              "    <tr style=\"text-align: right;\">\n",
              "      <th></th>\n",
              "      <th>pixel1</th>\n",
              "      <th>pixel2</th>\n",
              "      <th>pixel3</th>\n",
              "      <th>pixel4</th>\n",
              "      <th>pixel5</th>\n",
              "      <th>pixel6</th>\n",
              "      <th>pixel7</th>\n",
              "      <th>pixel8</th>\n",
              "      <th>pixel9</th>\n",
              "      <th>pixel10</th>\n",
              "      <th>...</th>\n",
              "      <th>pixel775</th>\n",
              "      <th>pixel776</th>\n",
              "      <th>pixel777</th>\n",
              "      <th>pixel778</th>\n",
              "      <th>pixel779</th>\n",
              "      <th>pixel780</th>\n",
              "      <th>pixel781</th>\n",
              "      <th>pixel782</th>\n",
              "      <th>pixel783</th>\n",
              "      <th>pixel784</th>\n",
              "    </tr>\n",
              "  </thead>\n",
              "  <tbody>\n",
              "    <tr>\n",
              "      <th>317</th>\n",
              "      <td>0</td>\n",
              "      <td>0</td>\n",
              "      <td>0</td>\n",
              "      <td>0</td>\n",
              "      <td>0</td>\n",
              "      <td>0</td>\n",
              "      <td>0</td>\n",
              "      <td>0</td>\n",
              "      <td>0</td>\n",
              "      <td>0</td>\n",
              "      <td>...</td>\n",
              "      <td>0</td>\n",
              "      <td>0</td>\n",
              "      <td>0</td>\n",
              "      <td>0</td>\n",
              "      <td>0</td>\n",
              "      <td>0</td>\n",
              "      <td>0</td>\n",
              "      <td>0</td>\n",
              "      <td>0</td>\n",
              "      <td>0</td>\n",
              "    </tr>\n",
              "    <tr>\n",
              "      <th>487</th>\n",
              "      <td>0</td>\n",
              "      <td>0</td>\n",
              "      <td>0</td>\n",
              "      <td>0</td>\n",
              "      <td>0</td>\n",
              "      <td>0</td>\n",
              "      <td>0</td>\n",
              "      <td>0</td>\n",
              "      <td>0</td>\n",
              "      <td>0</td>\n",
              "      <td>...</td>\n",
              "      <td>0</td>\n",
              "      <td>0</td>\n",
              "      <td>0</td>\n",
              "      <td>0</td>\n",
              "      <td>0</td>\n",
              "      <td>0</td>\n",
              "      <td>0</td>\n",
              "      <td>0</td>\n",
              "      <td>0</td>\n",
              "      <td>0</td>\n",
              "    </tr>\n",
              "    <tr>\n",
              "      <th>595</th>\n",
              "      <td>0</td>\n",
              "      <td>0</td>\n",
              "      <td>0</td>\n",
              "      <td>0</td>\n",
              "      <td>0</td>\n",
              "      <td>0</td>\n",
              "      <td>0</td>\n",
              "      <td>0</td>\n",
              "      <td>0</td>\n",
              "      <td>0</td>\n",
              "      <td>...</td>\n",
              "      <td>0</td>\n",
              "      <td>0</td>\n",
              "      <td>0</td>\n",
              "      <td>0</td>\n",
              "      <td>0</td>\n",
              "      <td>0</td>\n",
              "      <td>0</td>\n",
              "      <td>0</td>\n",
              "      <td>0</td>\n",
              "      <td>0</td>\n",
              "    </tr>\n",
              "    <tr>\n",
              "      <th>689</th>\n",
              "      <td>0</td>\n",
              "      <td>0</td>\n",
              "      <td>0</td>\n",
              "      <td>0</td>\n",
              "      <td>0</td>\n",
              "      <td>0</td>\n",
              "      <td>0</td>\n",
              "      <td>0</td>\n",
              "      <td>0</td>\n",
              "      <td>0</td>\n",
              "      <td>...</td>\n",
              "      <td>0</td>\n",
              "      <td>0</td>\n",
              "      <td>0</td>\n",
              "      <td>0</td>\n",
              "      <td>0</td>\n",
              "      <td>0</td>\n",
              "      <td>0</td>\n",
              "      <td>0</td>\n",
              "      <td>0</td>\n",
              "      <td>0</td>\n",
              "    </tr>\n",
              "    <tr>\n",
              "      <th>802</th>\n",
              "      <td>fwefew</td>\n",
              "      <td>fwefew</td>\n",
              "      <td>fwefew</td>\n",
              "      <td>fwefew</td>\n",
              "      <td>fwefew</td>\n",
              "      <td>fwefew</td>\n",
              "      <td>fwefew</td>\n",
              "      <td>fwefew</td>\n",
              "      <td>fwefew</td>\n",
              "      <td>fwefew</td>\n",
              "      <td>...</td>\n",
              "      <td>fwefew</td>\n",
              "      <td>fwefew</td>\n",
              "      <td>fwefew</td>\n",
              "      <td>fwefew</td>\n",
              "      <td>fwefew</td>\n",
              "      <td>fwefew</td>\n",
              "      <td>fwefew</td>\n",
              "      <td>fwefew</td>\n",
              "      <td>fwefew</td>\n",
              "      <td>fwefew</td>\n",
              "    </tr>\n",
              "    <tr>\n",
              "      <th>861</th>\n",
              "      <td>fwefew</td>\n",
              "      <td>fwefew</td>\n",
              "      <td>fwefew</td>\n",
              "      <td>fwefew</td>\n",
              "      <td>fwefew</td>\n",
              "      <td>fwefew</td>\n",
              "      <td>fwefew</td>\n",
              "      <td>fwefew</td>\n",
              "      <td>fwefew</td>\n",
              "      <td>fwefew</td>\n",
              "      <td>...</td>\n",
              "      <td>fwefew</td>\n",
              "      <td>fwefew</td>\n",
              "      <td>fwefew</td>\n",
              "      <td>fwefew</td>\n",
              "      <td>fwefew</td>\n",
              "      <td>fwefew</td>\n",
              "      <td>fwefew</td>\n",
              "      <td>fwefew</td>\n",
              "      <td>fwefew</td>\n",
              "      <td>fwefew</td>\n",
              "    </tr>\n",
              "  </tbody>\n",
              "</table>\n",
              "<p>6 rows × 784 columns</p>\n",
              "</div>"
            ],
            "text/plain": [
              "     pixel1  pixel2  pixel3  pixel4  pixel5  pixel6  pixel7  pixel8  pixel9  \\\n",
              "317       0       0       0       0       0       0       0       0       0   \n",
              "487       0       0       0       0       0       0       0       0       0   \n",
              "595       0       0       0       0       0       0       0       0       0   \n",
              "689       0       0       0       0       0       0       0       0       0   \n",
              "802  fwefew  fwefew  fwefew  fwefew  fwefew  fwefew  fwefew  fwefew  fwefew   \n",
              "861  fwefew  fwefew  fwefew  fwefew  fwefew  fwefew  fwefew  fwefew  fwefew   \n",
              "\n",
              "    pixel10  ... pixel775 pixel776 pixel777 pixel778 pixel779 pixel780  \\\n",
              "317       0  ...        0        0        0        0        0        0   \n",
              "487       0  ...        0        0        0        0        0        0   \n",
              "595       0  ...        0        0        0        0        0        0   \n",
              "689       0  ...        0        0        0        0        0        0   \n",
              "802  fwefew  ...   fwefew   fwefew   fwefew   fwefew   fwefew   fwefew   \n",
              "861  fwefew  ...   fwefew   fwefew   fwefew   fwefew   fwefew   fwefew   \n",
              "\n",
              "    pixel781 pixel782 pixel783 pixel784  \n",
              "317        0        0        0        0  \n",
              "487        0        0        0        0  \n",
              "595        0        0        0        0  \n",
              "689        0        0        0        0  \n",
              "802   fwefew   fwefew   fwefew   fwefew  \n",
              "861   fwefew   fwefew   fwefew   fwefew  \n",
              "\n",
              "[6 rows x 784 columns]"
            ]
          },
          "execution_count": 30,
          "metadata": {},
          "output_type": "execute_result"
        }
      ],
      "source": [
        "train[train.duplicated()]"
      ]
    },
    {
      "cell_type": "code",
      "execution_count": 31,
      "metadata": {
        "id": "XSqH-mqTaCb8"
      },
      "outputs": [],
      "source": [
        "train = train.drop([317,487, 595, 689, 802, 861], axis = 0)"
      ]
    },
    {
      "cell_type": "code",
      "execution_count": 32,
      "metadata": {
        "colab": {
          "base_uri": "https://localhost:8080/",
          "height": 129
        },
        "id": "zUEY_yA2aekt",
        "outputId": "504c5ad0-3e80-4852-ea0a-60f6c1c3da6d"
      },
      "outputs": [
        {
          "data": {
            "text/html": [
              "<div>\n",
              "<style scoped>\n",
              "    .dataframe tbody tr th:only-of-type {\n",
              "        vertical-align: middle;\n",
              "    }\n",
              "\n",
              "    .dataframe tbody tr th {\n",
              "        vertical-align: top;\n",
              "    }\n",
              "\n",
              "    .dataframe thead th {\n",
              "        text-align: right;\n",
              "    }\n",
              "</style>\n",
              "<table border=\"1\" class=\"dataframe\">\n",
              "  <thead>\n",
              "    <tr style=\"text-align: right;\">\n",
              "      <th></th>\n",
              "      <th>pixel1</th>\n",
              "      <th>pixel2</th>\n",
              "      <th>pixel3</th>\n",
              "      <th>pixel4</th>\n",
              "      <th>pixel5</th>\n",
              "      <th>pixel6</th>\n",
              "      <th>pixel7</th>\n",
              "      <th>pixel8</th>\n",
              "      <th>pixel9</th>\n",
              "      <th>pixel10</th>\n",
              "      <th>...</th>\n",
              "      <th>pixel775</th>\n",
              "      <th>pixel776</th>\n",
              "      <th>pixel777</th>\n",
              "      <th>pixel778</th>\n",
              "      <th>pixel779</th>\n",
              "      <th>pixel780</th>\n",
              "      <th>pixel781</th>\n",
              "      <th>pixel782</th>\n",
              "      <th>pixel783</th>\n",
              "      <th>pixel784</th>\n",
              "    </tr>\n",
              "  </thead>\n",
              "  <tbody>\n",
              "    <tr>\n",
              "      <th>727</th>\n",
              "      <td>fwefew</td>\n",
              "      <td>fwefew</td>\n",
              "      <td>fwefew</td>\n",
              "      <td>fwefew</td>\n",
              "      <td>fwefew</td>\n",
              "      <td>fwefew</td>\n",
              "      <td>fwefew</td>\n",
              "      <td>fwefew</td>\n",
              "      <td>fwefew</td>\n",
              "      <td>fwefew</td>\n",
              "      <td>...</td>\n",
              "      <td>fwefew</td>\n",
              "      <td>fwefew</td>\n",
              "      <td>fwefew</td>\n",
              "      <td>fwefew</td>\n",
              "      <td>fwefew</td>\n",
              "      <td>fwefew</td>\n",
              "      <td>fwefew</td>\n",
              "      <td>fwefew</td>\n",
              "      <td>fwefew</td>\n",
              "      <td>fwefew</td>\n",
              "    </tr>\n",
              "  </tbody>\n",
              "</table>\n",
              "<p>1 rows × 784 columns</p>\n",
              "</div>"
            ],
            "text/plain": [
              "     pixel1  pixel2  pixel3  pixel4  pixel5  pixel6  pixel7  pixel8  pixel9  \\\n",
              "727  fwefew  fwefew  fwefew  fwefew  fwefew  fwefew  fwefew  fwefew  fwefew   \n",
              "\n",
              "    pixel10  ... pixel775 pixel776 pixel777 pixel778 pixel779 pixel780  \\\n",
              "727  fwefew  ...   fwefew   fwefew   fwefew   fwefew   fwefew   fwefew   \n",
              "\n",
              "    pixel781 pixel782 pixel783 pixel784  \n",
              "727   fwefew   fwefew   fwefew   fwefew  \n",
              "\n",
              "[1 rows x 784 columns]"
            ]
          },
          "execution_count": 32,
          "metadata": {},
          "output_type": "execute_result"
        }
      ],
      "source": [
        "train[train['pixel1'] == \"fwefew\"]"
      ]
    },
    {
      "cell_type": "code",
      "execution_count": 33,
      "metadata": {
        "id": "0bt_F6ELarUg"
      },
      "outputs": [],
      "source": [
        "train = train.drop([727], axis = 0)"
      ]
    },
    {
      "cell_type": "code",
      "execution_count": 34,
      "metadata": {
        "id": "0qkh5kMfa_no"
      },
      "outputs": [],
      "source": [
        "train = train.astype(str).astype(int)"
      ]
    },
    {
      "cell_type": "code",
      "execution_count": 35,
      "metadata": {
        "id": "tn_kzboOayCk"
      },
      "outputs": [],
      "source": [
        "train = train / 255\n",
        "test = test / 255"
      ]
    },
    {
      "cell_type": "code",
      "execution_count": 36,
      "metadata": {
        "colab": {
          "base_uri": "https://localhost:8080/",
          "height": 252
        },
        "id": "gjApbmzma9LL",
        "outputId": "58bcc4f2-b7fc-4b95-b1f5-3c51783e08d6"
      },
      "outputs": [
        {
          "data": {
            "text/html": [
              "<div>\n",
              "<style scoped>\n",
              "    .dataframe tbody tr th:only-of-type {\n",
              "        vertical-align: middle;\n",
              "    }\n",
              "\n",
              "    .dataframe tbody tr th {\n",
              "        vertical-align: top;\n",
              "    }\n",
              "\n",
              "    .dataframe thead th {\n",
              "        text-align: right;\n",
              "    }\n",
              "</style>\n",
              "<table border=\"1\" class=\"dataframe\">\n",
              "  <thead>\n",
              "    <tr style=\"text-align: right;\">\n",
              "      <th></th>\n",
              "      <th>pixel1</th>\n",
              "      <th>pixel2</th>\n",
              "      <th>pixel3</th>\n",
              "      <th>pixel4</th>\n",
              "      <th>pixel5</th>\n",
              "      <th>pixel6</th>\n",
              "      <th>pixel7</th>\n",
              "      <th>pixel8</th>\n",
              "      <th>pixel9</th>\n",
              "      <th>pixel10</th>\n",
              "      <th>...</th>\n",
              "      <th>pixel775</th>\n",
              "      <th>pixel776</th>\n",
              "      <th>pixel777</th>\n",
              "      <th>pixel778</th>\n",
              "      <th>pixel779</th>\n",
              "      <th>pixel780</th>\n",
              "      <th>pixel781</th>\n",
              "      <th>pixel782</th>\n",
              "      <th>pixel783</th>\n",
              "      <th>pixel784</th>\n",
              "    </tr>\n",
              "  </thead>\n",
              "  <tbody>\n",
              "    <tr>\n",
              "      <th>0</th>\n",
              "      <td>0.419608</td>\n",
              "      <td>0.462745</td>\n",
              "      <td>0.498039</td>\n",
              "      <td>0.525490</td>\n",
              "      <td>0.545098</td>\n",
              "      <td>0.560784</td>\n",
              "      <td>0.572549</td>\n",
              "      <td>0.588235</td>\n",
              "      <td>0.600000</td>\n",
              "      <td>0.611765</td>\n",
              "      <td>...</td>\n",
              "      <td>0.811765</td>\n",
              "      <td>0.811765</td>\n",
              "      <td>0.811765</td>\n",
              "      <td>0.811765</td>\n",
              "      <td>0.807843</td>\n",
              "      <td>0.807843</td>\n",
              "      <td>0.807843</td>\n",
              "      <td>0.800000</td>\n",
              "      <td>0.796078</td>\n",
              "      <td>0.792157</td>\n",
              "    </tr>\n",
              "    <tr>\n",
              "      <th>1</th>\n",
              "      <td>0.607843</td>\n",
              "      <td>0.615686</td>\n",
              "      <td>0.611765</td>\n",
              "      <td>0.611765</td>\n",
              "      <td>0.611765</td>\n",
              "      <td>0.615686</td>\n",
              "      <td>0.611765</td>\n",
              "      <td>0.619608</td>\n",
              "      <td>0.619608</td>\n",
              "      <td>0.615686</td>\n",
              "      <td>...</td>\n",
              "      <td>0.270588</td>\n",
              "      <td>0.584314</td>\n",
              "      <td>0.501961</td>\n",
              "      <td>0.341176</td>\n",
              "      <td>0.368627</td>\n",
              "      <td>0.639216</td>\n",
              "      <td>0.686275</td>\n",
              "      <td>0.403922</td>\n",
              "      <td>0.529412</td>\n",
              "      <td>0.584314</td>\n",
              "    </tr>\n",
              "    <tr>\n",
              "      <th>2</th>\n",
              "      <td>0.733333</td>\n",
              "      <td>0.737255</td>\n",
              "      <td>0.737255</td>\n",
              "      <td>0.733333</td>\n",
              "      <td>0.733333</td>\n",
              "      <td>0.729412</td>\n",
              "      <td>0.733333</td>\n",
              "      <td>0.737255</td>\n",
              "      <td>0.733333</td>\n",
              "      <td>0.729412</td>\n",
              "      <td>...</td>\n",
              "      <td>0.792157</td>\n",
              "      <td>0.788235</td>\n",
              "      <td>0.784314</td>\n",
              "      <td>0.780392</td>\n",
              "      <td>0.776471</td>\n",
              "      <td>0.780392</td>\n",
              "      <td>0.776471</td>\n",
              "      <td>0.764706</td>\n",
              "      <td>0.760784</td>\n",
              "      <td>0.764706</td>\n",
              "    </tr>\n",
              "    <tr>\n",
              "      <th>3</th>\n",
              "      <td>0.827451</td>\n",
              "      <td>0.827451</td>\n",
              "      <td>0.831373</td>\n",
              "      <td>0.831373</td>\n",
              "      <td>0.827451</td>\n",
              "      <td>0.823529</td>\n",
              "      <td>0.827451</td>\n",
              "      <td>0.823529</td>\n",
              "      <td>0.823529</td>\n",
              "      <td>0.827451</td>\n",
              "      <td>...</td>\n",
              "      <td>0.921569</td>\n",
              "      <td>0.917647</td>\n",
              "      <td>0.913725</td>\n",
              "      <td>0.905882</td>\n",
              "      <td>0.901961</td>\n",
              "      <td>0.886275</td>\n",
              "      <td>0.882353</td>\n",
              "      <td>0.870588</td>\n",
              "      <td>0.898039</td>\n",
              "      <td>0.639216</td>\n",
              "    </tr>\n",
              "    <tr>\n",
              "      <th>4</th>\n",
              "      <td>0.643137</td>\n",
              "      <td>0.654902</td>\n",
              "      <td>0.666667</td>\n",
              "      <td>0.674510</td>\n",
              "      <td>0.690196</td>\n",
              "      <td>0.701961</td>\n",
              "      <td>0.705882</td>\n",
              "      <td>0.721569</td>\n",
              "      <td>0.725490</td>\n",
              "      <td>0.729412</td>\n",
              "      <td>...</td>\n",
              "      <td>0.360784</td>\n",
              "      <td>0.411765</td>\n",
              "      <td>0.411765</td>\n",
              "      <td>0.423529</td>\n",
              "      <td>0.521569</td>\n",
              "      <td>0.639216</td>\n",
              "      <td>0.615686</td>\n",
              "      <td>0.639216</td>\n",
              "      <td>0.643137</td>\n",
              "      <td>0.701961</td>\n",
              "    </tr>\n",
              "  </tbody>\n",
              "</table>\n",
              "<p>5 rows × 784 columns</p>\n",
              "</div>"
            ],
            "text/plain": [
              "     pixel1    pixel2    pixel3    pixel4    pixel5    pixel6    pixel7  \\\n",
              "0  0.419608  0.462745  0.498039  0.525490  0.545098  0.560784  0.572549   \n",
              "1  0.607843  0.615686  0.611765  0.611765  0.611765  0.615686  0.611765   \n",
              "2  0.733333  0.737255  0.737255  0.733333  0.733333  0.729412  0.733333   \n",
              "3  0.827451  0.827451  0.831373  0.831373  0.827451  0.823529  0.827451   \n",
              "4  0.643137  0.654902  0.666667  0.674510  0.690196  0.701961  0.705882   \n",
              "\n",
              "     pixel8    pixel9   pixel10  ...  pixel775  pixel776  pixel777  pixel778  \\\n",
              "0  0.588235  0.600000  0.611765  ...  0.811765  0.811765  0.811765  0.811765   \n",
              "1  0.619608  0.619608  0.615686  ...  0.270588  0.584314  0.501961  0.341176   \n",
              "2  0.737255  0.733333  0.729412  ...  0.792157  0.788235  0.784314  0.780392   \n",
              "3  0.823529  0.823529  0.827451  ...  0.921569  0.917647  0.913725  0.905882   \n",
              "4  0.721569  0.725490  0.729412  ...  0.360784  0.411765  0.411765  0.423529   \n",
              "\n",
              "   pixel779  pixel780  pixel781  pixel782  pixel783  pixel784  \n",
              "0  0.807843  0.807843  0.807843  0.800000  0.796078  0.792157  \n",
              "1  0.368627  0.639216  0.686275  0.403922  0.529412  0.584314  \n",
              "2  0.776471  0.780392  0.776471  0.764706  0.760784  0.764706  \n",
              "3  0.901961  0.886275  0.882353  0.870588  0.898039  0.639216  \n",
              "4  0.521569  0.639216  0.615686  0.639216  0.643137  0.701961  \n",
              "\n",
              "[5 rows x 784 columns]"
            ]
          },
          "execution_count": 36,
          "metadata": {},
          "output_type": "execute_result"
        }
      ],
      "source": [
        "train.head()"
      ]
    }
  ],
  "metadata": {
    "colab": {
      "collapsed_sections": [],
      "name": "cargar-multiples-dataset",
      "provenance": []
    },
    "kernelspec": {
      "display_name": "Python 3",
      "name": "python3"
    },
    "language_info": {
      "codemirror_mode": {
        "name": "ipython",
        "version": 3
      },
      "file_extension": ".py",
      "mimetype": "text/x-python",
      "name": "python",
      "nbconvert_exporter": "python",
      "pygments_lexer": "ipython3",
      "version": "3.11.5"
    }
  },
  "nbformat": 4,
  "nbformat_minor": 0
}
